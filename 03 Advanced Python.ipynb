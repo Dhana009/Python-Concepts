{
 "cells": [
  {
   "cell_type": "markdown",
   "id": "e44eb1c0",
   "metadata": {},
   "source": [
    "#  OOPS"
   ]
  },
  {
   "cell_type": "markdown",
   "id": "48516c86",
   "metadata": {},
   "source": [
    "#### CLASS , OBJECT , METHODS , CONSTRUCTOR ,  INHERITANCE , POLY MORPHISM , ABSTRACTION , ENCAPSULATION"
   ]
  },
  {
   "cell_type": "markdown",
   "id": "64c1ff80",
   "metadata": {},
   "source": [
    "Class: A class can be thought of as a blueprint for creating an object. For example, a class \"Car\" can have attributes like \"color\", \"make\", and \"model\" and methods like \"drive()\" and \"stop()\". When you create an object of class \"Car\", you can set the values of its attributes and call its methods.\n",
    "\n",
    "Object: An object is a specific instance created from a class. For example, you can create an object of class \"Car\" called \"myCar\" and set its color to \"red\", make to \"Toyota\", and model to \"Camry\". You can then call the drive() and stop() methods on \"myCar\".\n",
    "\n",
    "Inheritance: One class can inherit properties and methods from another class. For example, you can have a class \"ElectricCar\" that inherits from the \"Car\" class. This means that \"ElectricCar\" has all the attributes and methods of \"Car\" and can also have additional attributes and methods specific to electric cars.\n",
    "\n",
    "Polymorphism: Objects of different classes can be treated as objects of a common superclass. For example, a function that accepts an object of the superclass \"Vehicle\" can accept an object of the class \"Car\" or \"ElectricCar\" or \"Bike\" and can perform the same action on all of them.\n",
    "\n",
    "Abstraction: Hiding complexity and only showing the necessary information. For example, A music player application, we interact with the buttons like play, pause, next, previous, and volume but we don't need to know how the application works internally, how it read the mp3 file, how it decodes the mp3 format, how it sends the signal to speaker, we only need to know the result of our interaction.\n",
    "\n",
    "Encapsulation: Keeping the internal workings of an object hidden and only allowing controlled access. For example, a Bank account class, we can access the account balance, deposit and withdraw money but we don't have access to the internal workings of the class, like how the balance is stored, how the transactions are processed, how the security measures are implemented."
   ]
  },
  {
   "cell_type": "code",
   "execution_count": null,
   "id": "e3c054d6",
   "metadata": {},
   "outputs": [],
   "source": []
  },
  {
   "cell_type": "code",
   "execution_count": 1,
   "id": "661b5ece",
   "metadata": {},
   "outputs": [
    {
     "data": {
      "text/plain": [
       "('green apple', 'sweet')"
      ]
     },
     "execution_count": 1,
     "metadata": {},
     "output_type": "execute_result"
    }
   ],
   "source": [
    "#class\n",
    "class fruits:\n",
    "    \n",
    "    #methods\n",
    "    def set_data(self,name,types):\n",
    "        self.name = name\n",
    "        self.types = types\n",
    "        \n",
    "    def display_data(self):\n",
    "        return self.name,self.types\n",
    "    \n",
    "    \n",
    "apple = fruits()\n",
    "apple.set_data('green apple','sweet')\n",
    "apple.display_data()"
   ]
  },
  {
   "cell_type": "code",
   "execution_count": 9,
   "id": "c84b552c",
   "metadata": {},
   "outputs": [
    {
     "data": {
      "text/plain": [
       "'yell'"
      ]
     },
     "execution_count": 9,
     "metadata": {},
     "output_type": "execute_result"
    }
   ],
   "source": [
    "#type 2\n",
    "class fruits:\n",
    "    \n",
    "    def __init__(self,name,types,colour):\n",
    "        self._name=name\n",
    "        self._types=types\n",
    "        self._colour=colour\n",
    "    \n",
    "    #methods\n",
    "    def set_data(self,name,types):\n",
    "        self.name=name\n",
    "        self._types=types\n",
    "        \n",
    "    #methods    \n",
    "    def dislay_data(self):\n",
    "        return self.name,self._types,self._colour\n",
    "    \n",
    "    \n",
    "banana=fruits('red banana','sweet','yellow')\n",
    "\n",
    "banana.set_data('yell','ee')\n",
    "banana.dislay_data()\n",
    "banana.name\n"
   ]
  },
  {
   "cell_type": "code",
   "execution_count": 14,
   "id": "12b8850c",
   "metadata": {},
   "outputs": [],
   "source": [
    "class Car:\n",
    "    def __init__(self, make, model, year):\n",
    "        self.make = make\n",
    "        self.model = model\n",
    "        self.year = year\n",
    "\n",
    "mustang = Car(\"Ford\", \"Mustang\", 2019)\n",
    "camaro = Car(\"Chevy\", \"Camaro\", 2020)\n"
   ]
  },
  {
   "cell_type": "code",
   "execution_count": 11,
   "id": "1ecf54a5",
   "metadata": {},
   "outputs": [
    {
     "data": {
      "text/plain": [
       "mappingproxy({'__module__': '__main__',\n",
       "              '__init__': <function __main__.fruits.__init__(self, name, types, colour)>,\n",
       "              'set_data': <function __main__.fruits.set_data(self, name, types)>,\n",
       "              'dislay_data': <function __main__.fruits.dislay_data(self)>,\n",
       "              '__dict__': <attribute '__dict__' of 'fruits' objects>,\n",
       "              '__weakref__': <attribute '__weakref__' of 'fruits' objects>,\n",
       "              '__doc__': None})"
      ]
     },
     "execution_count": 11,
     "metadata": {},
     "output_type": "execute_result"
    }
   ],
   "source": [
    "vars(fruits)"
   ]
  },
  {
   "cell_type": "code",
   "execution_count": 12,
   "id": "04323627",
   "metadata": {},
   "outputs": [
    {
     "data": {
      "text/plain": [
       "['__class__',\n",
       " '__delattr__',\n",
       " '__dict__',\n",
       " '__dir__',\n",
       " '__doc__',\n",
       " '__eq__',\n",
       " '__format__',\n",
       " '__ge__',\n",
       " '__getattribute__',\n",
       " '__gt__',\n",
       " '__hash__',\n",
       " '__init__',\n",
       " '__init_subclass__',\n",
       " '__le__',\n",
       " '__lt__',\n",
       " '__module__',\n",
       " '__ne__',\n",
       " '__new__',\n",
       " '__reduce__',\n",
       " '__reduce_ex__',\n",
       " '__repr__',\n",
       " '__setattr__',\n",
       " '__sizeof__',\n",
       " '__str__',\n",
       " '__subclasshook__',\n",
       " '__weakref__',\n",
       " 'dislay_data',\n",
       " 'set_data']"
      ]
     },
     "execution_count": 12,
     "metadata": {},
     "output_type": "execute_result"
    }
   ],
   "source": [
    "dir(fruits)"
   ]
  },
  {
   "cell_type": "code",
   "execution_count": null,
   "id": "1432ebcc",
   "metadata": {},
   "outputs": [],
   "source": []
  },
  {
   "cell_type": "markdown",
   "id": "ce72e74f",
   "metadata": {},
   "source": [
    "# INHERITANCE "
   ]
  },
  {
   "cell_type": "markdown",
   "id": "4c6ac30e",
   "metadata": {},
   "source": [
    "###  In python, you can use the super() function to call the methods of the superclass, and use the className.__bases__ to access the super class of a class."
   ]
  },
  {
   "cell_type": "code",
   "execution_count": 25,
   "id": "65837c7e",
   "metadata": {},
   "outputs": [],
   "source": [
    "class basicprint:\n",
    "    def __init__(self, make, model, year):\n",
    "        self.make = make\n",
    "        self.model = model\n",
    "        self.year = year\n",
    "\n",
    "class car(basicprint):\n",
    "    def __init__(self,make, model , year , custom):\n",
    "        super().__init__(make,model,year)\n",
    "        self.custom = custom\n",
    "        \n",
    "        \n",
    "\n",
    "mycar = car('india',202,2021,'high speed')"
   ]
  },
  {
   "cell_type": "code",
   "execution_count": 26,
   "id": "03726f45",
   "metadata": {},
   "outputs": [
    {
     "data": {
      "text/plain": [
       "'india'"
      ]
     },
     "execution_count": 26,
     "metadata": {},
     "output_type": "execute_result"
    }
   ],
   "source": [
    "two.make"
   ]
  },
  {
   "cell_type": "code",
   "execution_count": 27,
   "id": "6fc3b1d9",
   "metadata": {},
   "outputs": [],
   "source": [
    "class basicprint:\n",
    "    def __init__(self, make, model, year):\n",
    "        self.make = make\n",
    "        self.model = model\n",
    "        self.year = year\n",
    "\n",
    "class car(basicprint):\n",
    "    def __init__(self,make, model , year , custom):\n",
    "        super().__init__(make,model,year)\n",
    "        self.custom = custom\n",
    "        \n",
    "class supercar(car):\n",
    "    def __init__(self,make,model,year,custom,speed):\n",
    "        super().__init__(make,model,year,custom)\n",
    "        self.speed = speed\n",
    "        \n",
    "\n",
    "mycar = car('india',202,2021,'high speed')\n",
    "dad_car = supercar('india',202,2021,'high speed',230)"
   ]
  },
  {
   "cell_type": "code",
   "execution_count": 29,
   "id": "5ffac25d",
   "metadata": {},
   "outputs": [
    {
     "data": {
      "text/plain": [
       "'india'"
      ]
     },
     "execution_count": 29,
     "metadata": {},
     "output_type": "execute_result"
    }
   ],
   "source": [
    "dad_car.make"
   ]
  },
  {
   "cell_type": "code",
   "execution_count": 30,
   "id": "71af1471",
   "metadata": {},
   "outputs": [],
   "source": [
    "class Vehicle:\n",
    "    def __init__(self, make, model, year):\n",
    "        self.make = make\n",
    "        self.model = model\n",
    "        self.year = year\n",
    "        \n",
    "class Car(Vehicle):\n",
    "    def __init__(self, make, model, year, num_doors):\n",
    "        super().__init__(make, model, year)\n",
    "        self.num_doors = num_doors\n",
    "        \n",
    "class Sedan(Car):\n",
    "    def __init__(self, make, model, year, num_doors, num_seats):\n",
    "        super().__init__(make, model, year, num_doors)\n",
    "        self.num_seats = num_seats\n",
    "        \n",
    "class SUV(Car):\n",
    "    def __init__(self, make, model, year, num_doors, num_rows):\n",
    "        super().__init__(make, model, year, num_doors)\n",
    "        self.num_rows = num_rows"
   ]
  },
  {
   "cell_type": "code",
   "execution_count": null,
   "id": "d6227ef1",
   "metadata": {},
   "outputs": [],
   "source": []
  },
  {
   "cell_type": "code",
   "execution_count": 31,
   "id": "d2300a92",
   "metadata": {},
   "outputs": [],
   "source": [
    "class Vehicle:\n",
    "    def __init__(self, make, model, year):\n",
    "        self.make = make\n",
    "        self.model = model\n",
    "        self.year = year\n",
    "        \n",
    "class doors:\n",
    "    def __init__(self,num_doors):\n",
    "        self.num_doors = num_doors\n",
    "        \n",
    "class seats:\n",
    "    def __init__(self,num_seats):\n",
    "        self.num_seats = num_seats\n",
    "        \n",
    "class SUV(Vehicle,doors,seats):\n",
    "    def __init__(self, make, model, year, num_doors, num_seats,num_rows):\n",
    "        Vehicle.__init__(self,make,model,year)\n",
    "        doors.__init__(self,num_doors)\n",
    "        seats.__init__(self,num_seats)\n",
    "        self.num_rows = num_rows"
   ]
  },
  {
   "cell_type": "code",
   "execution_count": 33,
   "id": "767b97c7",
   "metadata": {},
   "outputs": [],
   "source": [
    "mycar = SUV('india',2021,2022,3,10,23)"
   ]
  },
  {
   "cell_type": "code",
   "execution_count": 34,
   "id": "5b7150ee",
   "metadata": {},
   "outputs": [
    {
     "data": {
      "text/plain": [
       "'india'"
      ]
     },
     "execution_count": 34,
     "metadata": {},
     "output_type": "execute_result"
    }
   ],
   "source": [
    "mycar.make"
   ]
  },
  {
   "cell_type": "code",
   "execution_count": null,
   "id": "4972f90c",
   "metadata": {},
   "outputs": [],
   "source": []
  },
  {
   "cell_type": "code",
   "execution_count": 48,
   "id": "befc024d",
   "metadata": {},
   "outputs": [],
   "source": [
    "class mainone:\n",
    "    def __init__(self,one,**kwargs):\n",
    "        self.one = one\n",
    "        self.kwargs = kwargs\n",
    "        \n",
    "        \n",
    "class second(mainone):\n",
    "    def __init__(self,one,two,**kwargs):\n",
    "        super().__init__(one,**kwargs)\n",
    "        self.two = two"
   ]
  },
  {
   "cell_type": "code",
   "execution_count": 51,
   "id": "12b7d65c",
   "metadata": {},
   "outputs": [],
   "source": [
    "test = second(1,2,three=3)"
   ]
  },
  {
   "cell_type": "code",
   "execution_count": 50,
   "id": "5d527ef4",
   "metadata": {},
   "outputs": [
    {
     "data": {
      "text/plain": [
       "{'three': 3}"
      ]
     },
     "execution_count": 50,
     "metadata": {},
     "output_type": "execute_result"
    }
   ],
   "source": [
    "test.kwargs"
   ]
  },
  {
   "cell_type": "code",
   "execution_count": null,
   "id": "bf166d3c",
   "metadata": {},
   "outputs": [],
   "source": []
  },
  {
   "cell_type": "code",
   "execution_count": 88,
   "id": "e6a05adc",
   "metadata": {},
   "outputs": [],
   "source": [
    "class shape:\n",
    "    def __init__(self,*args,**kwargs):\n",
    "        self.name = kwargs.get('name')\n",
    "        self.sides = args\n",
    "        \n",
    "class polygon(shape):\n",
    "    def __init__(self,*args,**kwargs):\n",
    "        super().__init__(*args,**kwargs)\n",
    "        self.angles = kwargs.get('angles', ())\n",
    "        \n",
    "class circle(shape):\n",
    "    def __init__(self,*args,**kwargs):\n",
    "        super().__init__(*args,**kwargs)\n",
    "        self.radius = kwargs.get('radius')\n",
    "        \n",
    "    def area(self):\n",
    "        return 3.14*(self.radius**2)"
   ]
  },
  {
   "cell_type": "code",
   "execution_count": 89,
   "id": "d97baf01",
   "metadata": {},
   "outputs": [],
   "source": [
    "r = circle(10,name='circle',radius=10)"
   ]
  },
  {
   "cell_type": "code",
   "execution_count": 90,
   "id": "5d4bb901",
   "metadata": {},
   "outputs": [
    {
     "data": {
      "text/plain": [
       "(10,)"
      ]
     },
     "execution_count": 90,
     "metadata": {},
     "output_type": "execute_result"
    }
   ],
   "source": [
    "r.sides"
   ]
  },
  {
   "cell_type": "code",
   "execution_count": 94,
   "id": "8dfd9153",
   "metadata": {},
   "outputs": [],
   "source": [
    "p = polygon(3,name='triangle', angles=(60, 60, 60))"
   ]
  },
  {
   "cell_type": "code",
   "execution_count": 96,
   "id": "1b499261",
   "metadata": {},
   "outputs": [
    {
     "data": {
      "text/plain": [
       "(3,)"
      ]
     },
     "execution_count": 96,
     "metadata": {},
     "output_type": "execute_result"
    }
   ],
   "source": [
    "p.sides"
   ]
  },
  {
   "cell_type": "code",
   "execution_count": 99,
   "id": "0ffcb487",
   "metadata": {},
   "outputs": [],
   "source": [
    "class Vehicle:\n",
    "    def __init__(self, **kwargs):\n",
    "        self.make = kwargs.get('make')\n",
    "        self.model = kwargs.get('model')\n",
    "        self.year = kwargs.get('year')\n",
    "        \n",
    "class Car(Vehicle):\n",
    "    def __init__(self, **kwargs):\n",
    "        super().__init__(**kwargs)\n",
    "        self.num_doors = kwargs.get('num_doors')\n",
    "        \n",
    "class Sedan(Car):\n",
    "    def __init__(self,**kwargs):\n",
    "        super().__init__(**kwargs)\n",
    "        self.num_seats = kwargs.get('num_seats')\n",
    "        \n",
    "class SUV(Car):\n",
    "    def __init__(self, **kwargs):\n",
    "        super().__init__(**kwargs)\n",
    "        self.num_rows = kwargs.get('num_rows')"
   ]
  },
  {
   "cell_type": "code",
   "execution_count": 104,
   "id": "2050f521",
   "metadata": {},
   "outputs": [],
   "source": [
    "my = SUV(make='india',model='2021',year=2022,num_doors=5,num_seats=10)"
   ]
  },
  {
   "cell_type": "code",
   "execution_count": 106,
   "id": "211a81f6",
   "metadata": {},
   "outputs": [
    {
     "data": {
      "text/plain": [
       "'india'"
      ]
     },
     "execution_count": 106,
     "metadata": {},
     "output_type": "execute_result"
    }
   ],
   "source": [
    "my.make"
   ]
  },
  {
   "cell_type": "code",
   "execution_count": null,
   "id": "184d40b3",
   "metadata": {},
   "outputs": [],
   "source": []
  },
  {
   "cell_type": "markdown",
   "id": "41c5f610",
   "metadata": {},
   "source": [
    "# polymorphism"
   ]
  },
  {
   "cell_type": "code",
   "execution_count": 3,
   "id": "c9900802",
   "metadata": {},
   "outputs": [
    {
     "name": "stdout",
     "output_type": "stream",
     "text": [
      "78.5\n",
      "36\n",
      "6.0\n"
     ]
    }
   ],
   "source": [
    "#Sure, here's an example in Python that demonstrates polymorphism:\n",
    "class Shape:\n",
    "    def calculate_area(self):\n",
    "        pass\n",
    "\n",
    "class Circle(Shape):\n",
    "    def __init__(self, radius):\n",
    "        self.radius = radius\n",
    "        \n",
    "    def calculate_area(self):\n",
    "        return 3.14 * (self.radius ** 2)\n",
    "\n",
    "class Square(Shape):\n",
    "    def __init__(self, side):\n",
    "        self.side = side\n",
    "        \n",
    "    def calculate_area(self):\n",
    "        return self.side ** 2\n",
    "\n",
    "class Triangle(Shape):\n",
    "    def __init__(self, base, height):\n",
    "        self.base = base\n",
    "        self.height = height\n",
    "\n",
    "    def calculate_area(self):\n",
    "        return 0.5 * self.base * self.height\n",
    "\n",
    "def print_area(shape):\n",
    "    print(shape.calculate_area())\n",
    "\n",
    "circle = Circle(5)\n",
    "square = Square(6)\n",
    "triangle = Triangle(3,4)\n",
    "\n",
    "print_area(circle) # prints 78.5\n",
    "print_area(square) # prints 36\n",
    "print_area(triangle) # prints 6.0"
   ]
  },
  {
   "cell_type": "code",
   "execution_count": 2,
   "id": "17fb0903",
   "metadata": {},
   "outputs": [
    {
     "data": {
      "text/plain": [
       "6.0"
      ]
     },
     "execution_count": 2,
     "metadata": {},
     "output_type": "execute_result"
    }
   ],
   "source": [
    "triangle.calculate_area()"
   ]
  },
  {
   "cell_type": "code",
   "execution_count": null,
   "id": "1cd77673",
   "metadata": {},
   "outputs": [],
   "source": []
  },
  {
   "cell_type": "markdown",
   "id": "7347bc4f",
   "metadata": {},
   "source": [
    "# Encapsulation"
   ]
  },
  {
   "cell_type": "markdown",
   "id": "bec84e2d",
   "metadata": {},
   "source": [
    "Encapsulation is the practice of keeping an object's internal state and behavior hidden from the outside world and providing a controlled interface for interacting with the object.\n",
    "\n",
    "\n",
    "There are three types of encapsulation in Python:\n",
    "\n",
    "Public Encapsulation: Variables and methods that are declared public can be accessed from anywhere, inside or outside of the class. In Python, by default, all the variables and methods are public.\n",
    "\n",
    "Private Encapsulation: Variables and methods that are declared private can only be accessed within the class and not outside of it. In Python, a variable or method can be made private by prefixing its name with double underscores (__).\n",
    "\n",
    "Protected Encapsulation: Variables and methods that are declared protected can be accessed within the class and its subclasses, but not outside of them. In Python, a variable or method can be made protected by prefixing its name with a single underscore (_).\n",
    "\n",
    "Here's an example:"
   ]
  },
  {
   "cell_type": "code",
   "execution_count": 5,
   "id": "17311f84",
   "metadata": {},
   "outputs": [
    {
     "name": "stdout",
     "output_type": "stream",
     "text": [
      "1000\n",
      "1500\n",
      "500\n"
     ]
    }
   ],
   "source": [
    "class BankAccount:\n",
    "    def __init__(self, balance):\n",
    "        self.__balance = balance\n",
    "\n",
    "    def deposit(self, amount):\n",
    "        self.__balance += amount\n",
    "\n",
    "    def withdraw(self, amount):\n",
    "        if self.__balance >= amount:\n",
    "            self.__balance -= amount\n",
    "        else:\n",
    "            print(\"Insufficient funds\")\n",
    "\n",
    "    def get_balance(self):\n",
    "        return self.__balance\n",
    "\n",
    "account = BankAccount(1000)\n",
    "print(account.get_balance()) # prints 1000\n",
    "account.deposit(500)\n",
    "print(account.get_balance()) # prints 1500\n",
    "account.withdraw(1000)\n",
    "print(account.get_balance()) # prints 500\n",
    "\n"
   ]
  },
  {
   "cell_type": "code",
   "execution_count": 6,
   "id": "fffa4a43",
   "metadata": {},
   "outputs": [
    {
     "name": "stdout",
     "output_type": "stream",
     "text": [
      "10\n",
      "20\n",
      "This is a private method\n"
     ]
    },
    {
     "ename": "AttributeError",
     "evalue": "'MyClass' object has no attribute '__x'",
     "output_type": "error",
     "traceback": [
      "\u001b[1;31m---------------------------------------------------------------------------\u001b[0m",
      "\u001b[1;31mAttributeError\u001b[0m                            Traceback (most recent call last)",
      "Input \u001b[1;32mIn [6]\u001b[0m, in \u001b[0;36m<cell line: 19>\u001b[1;34m()\u001b[0m\n\u001b[0;32m     17\u001b[0m \u001b[38;5;28mprint\u001b[39m(obj\u001b[38;5;241m.\u001b[39mget_y()) \u001b[38;5;66;03m# 20\u001b[39;00m\n\u001b[0;32m     18\u001b[0m obj\u001b[38;5;241m.\u001b[39mmy_method() \u001b[38;5;66;03m# This is a private method\u001b[39;00m\n\u001b[1;32m---> 19\u001b[0m \u001b[38;5;28mprint\u001b[39m(\u001b[43mobj\u001b[49m\u001b[38;5;241;43m.\u001b[39;49m\u001b[43m__x\u001b[49m) \u001b[38;5;66;03m# AttributeError: 'MyClass' object has no attribute '__x'\u001b[39;00m\n\u001b[0;32m     20\u001b[0m \u001b[38;5;28mprint\u001b[39m(obj\u001b[38;5;241m.\u001b[39m__y)\n",
      "\u001b[1;31mAttributeError\u001b[0m: 'MyClass' object has no attribute '__x'"
     ]
    }
   ],
   "source": [
    "class MyClass:\n",
    "    def __init__(self):\n",
    "        self.__x = 10\n",
    "        self.__y = 20\n",
    "        \n",
    "    def my_method(self):\n",
    "        print(\"This is a private method\")\n",
    "        \n",
    "    def get_x(self):\n",
    "        return self.__x\n",
    "    \n",
    "    def get_y(self):\n",
    "        return self.__y\n",
    "\n",
    "obj = MyClass()\n",
    "print(obj.get_x()) # 10\n",
    "print(obj.get_y()) # 20\n",
    "obj.my_method() # This is a private method\n",
    "print(obj.__x) # AttributeError: 'MyClass' object has no attribute '__x'\n",
    "print(obj.__y) # AttributeError: 'MyClass' object has no attribute '__y'\n"
   ]
  },
  {
   "cell_type": "markdown",
   "id": "2cbea29c",
   "metadata": {},
   "source": [
    "Getters and Setters are methods used to access and modify the values of private class variables.\n",
    "\n",
    "A getter method is used to retrieve the value of a private variable. It's also known as an accessor method. It allows you to read the value of a private variable, but not to modify it.\n",
    "\n",
    "A setter method is used to modify the value of a private variable. It's also known as a mutator method. It allows you to change the value of a private variable, but not to read it.\n",
    "\n",
    "In Python, getters and setters are often used to provide a way to access and modify private variables in a class without breaking encapsulation. They can also be used to add validation checks or other logic before returning or modifying the variables.\n",
    "\n",
    "Here is an example of using getters and setters:"
   ]
  },
  {
   "cell_type": "code",
   "execution_count": 7,
   "id": "490d237c",
   "metadata": {},
   "outputs": [
    {
     "name": "stdout",
     "output_type": "stream",
     "text": [
      "10\n",
      "15\n"
     ]
    }
   ],
   "source": [
    "class MyClass:\n",
    "    def __init__(self):\n",
    "        self.__x = 10\n",
    "\n",
    "    def set_x(self, value):\n",
    "        if value > 0:\n",
    "            self.__x = value\n",
    "\n",
    "    def get_x(self):\n",
    "        return self.__x\n",
    "\n",
    "obj = MyClass()\n",
    "print(obj.get_x()) # 10\n",
    "obj.set_x(15)\n",
    "print(obj.get_x()) # 15\n"
   ]
  },
  {
   "cell_type": "code",
   "execution_count": 8,
   "id": "7fd4e11c",
   "metadata": {},
   "outputs": [
    {
     "name": "stdout",
     "output_type": "stream",
     "text": [
      "5\n",
      "15\n",
      "25\n",
      "30\n"
     ]
    }
   ],
   "source": [
    "class MyClass:\n",
    "    def __init__(self, *args, **kwargs):\n",
    "        self.__x = kwargs.get(\"x\", 10)\n",
    "        self.__y = kwargs.get(\"y\", 20)\n",
    "\n",
    "    def set_x(self, *args, **kwargs):\n",
    "        if \"x\" in kwargs and kwargs[\"x\"] > 0:\n",
    "            self.__x = kwargs[\"x\"]\n",
    "\n",
    "    def get_x(self, *args, **kwargs):\n",
    "        return self.__x\n",
    "\n",
    "    def set_y(self, *args, **kwargs):\n",
    "        if \"y\" in kwargs and kwargs[\"y\"] > 0:\n",
    "            self.__y = kwargs[\"y\"]\n",
    "\n",
    "    def get_y(self, *args, **kwargs):\n",
    "        return self.__y\n",
    "\n",
    "obj = MyClass(x=5, y=25)\n",
    "print(obj.get_x()) # 5\n",
    "obj.set_x(x=15)\n",
    "print(obj.get_x()) # 15\n",
    "print(obj.get_y()) # 25\n",
    "obj.set_y(y=30)\n",
    "print(obj.get_y()) # 30\n"
   ]
  },
  {
   "cell_type": "code",
   "execution_count": null,
   "id": "3ad29448",
   "metadata": {},
   "outputs": [],
   "source": []
  }
 ],
 "metadata": {
  "kernelspec": {
   "display_name": "Python 3 (ipykernel)",
   "language": "python",
   "name": "python3"
  },
  "language_info": {
   "codemirror_mode": {
    "name": "ipython",
    "version": 3
   },
   "file_extension": ".py",
   "mimetype": "text/x-python",
   "name": "python",
   "nbconvert_exporter": "python",
   "pygments_lexer": "ipython3",
   "version": "3.9.12"
  }
 },
 "nbformat": 4,
 "nbformat_minor": 5
}
