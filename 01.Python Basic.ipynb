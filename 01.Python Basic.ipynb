{
 "cells": [
  {
   "cell_type": "markdown",
   "id": "c82b4eb1",
   "metadata": {},
   "source": [
    "## In Python, common data structures include lists, tuples, dictionaries, and sets.\n",
    "\n",
    "### Lists are ordered and mutable, meaning items can be added or removed. They are useful for storing and manipulating large amounts of data.\n",
    "\n",
    "### Tuples are also ordered, but they are immutable, meaning once created, items cannot be added or removed. They are useful for data that should not be changed, such as coordinates in a game.\n",
    "\n",
    "### Dictionaries are unordered collections of key-value pairs. They are useful for quickly looking up values based on a unique key, such as a database record.\n",
    "\n",
    "### Sets are unordered collections of unique items. They are useful for efficiently checking membership or removing duplicates."
   ]
  },
  {
   "cell_type": "markdown",
   "id": "7dcc27ac",
   "metadata": {},
   "source": [
    "## Lists:\n",
    "\n",
    "append(): adds an element to the end of the list\n",
    "\n",
    "extend(): adds multiple elements to the end of the list\n",
    "\n",
    "insert(): inserts an element at a specified index\n",
    "\n",
    "remove(): removes an element from the list\n",
    "\n",
    "pop(): removes and returns the element at a specified index\n",
    "\n",
    "index(): returns the index of the first occurrence of a specified element\n",
    "\n",
    "count(): returns the number of occurrences of a specified element\n",
    "\n",
    "sort(): sorts the elements of the list in ascending order\n",
    "\n",
    "reverse(): reverses the order of the elements in the list"
   ]
  },
  {
   "cell_type": "code",
   "execution_count": null,
   "id": "caa6a197",
   "metadata": {},
   "outputs": [],
   "source": [
    "# Creating a list\n",
    "numbers = [1, 2, 3, 4]\n",
    "\n",
    "# Append 5 to the list\n",
    "numbers.append(5)\n",
    "print(numbers) # [1, 2, 3, 4, 5]\n",
    "\n",
    "# Extend the list with [6, 7, 8]\n",
    "numbers.extend([6, 7, 8])\n",
    "print(numbers) # [1, 2, 3, 4, 5, 6, 7, 8]\n",
    "\n",
    "# Insert 0 at index 0\n",
    "numbers.insert(0, 0)\n",
    "print(numbers) # [0, 1, 2, 3, 4, 5, 6, 7, 8]\n",
    "\n",
    "# Remove the element with value 3\n",
    "numbers.remove(3)\n",
    "print(numbers) # [0, 1, 2, 4, 5, 6, 7, 8]\n",
    "\n",
    "# Pop and return the element at index 4\n",
    "popped_element = numbers.pop(4)\n",
    "print(popped_element) # 5\n",
    "print(numbers) # [0, 1, 2, 4, 6, 7, 8]\n",
    "\n",
    "# Find the index of the first occurrence of 7\n",
    "index = numbers.index(7)\n",
    "print(index) # 5\n",
    "\n",
    "# Count the number of occurrences of 2\n",
    "count = numbers.count(2)\n",
    "print(count) # 1\n",
    "\n",
    "# Sort the list\n",
    "numbers.sort()\n",
    "print(numbers) # [0, 1, 2, 4, 6, 7, 8]\n",
    "\n",
    "# Reverse the list\n",
    "numbers.reverse()\n",
    "print(numbers) # [8, 7, 6, 4, 2, 1, 0]\n"
   ]
  },
  {
   "cell_type": "code",
   "execution_count": null,
   "id": "bc847306",
   "metadata": {},
   "outputs": [],
   "source": [
    "apple = [1,2,3,4,5,5,6]\n",
    "\n",
    "\n",
    "apple.append(3)\n",
    "\n",
    "apple.extend([2,3,9])\n",
    "\n",
    "apple.sort()\n",
    "\n",
    "apple.reverse()\n",
    "\n",
    "apple.pop()\n",
    "\n",
    "apple.count(2)\n",
    "\n",
    "apple.pop(2)\n",
    "\n",
    "apple.insert(1,233)\n",
    "\n",
    "apple.index(5)\n",
    "\n",
    "print(apple)"
   ]
  },
  {
   "cell_type": "markdown",
   "id": "d64c3d61",
   "metadata": {},
   "source": [
    "# Tuples:\n",
    "\n",
    "index(): returns the index of the first occurrence of a specified element\n",
    "\n",
    "count(): returns the number of occurrences of a specified element"
   ]
  },
  {
   "cell_type": "code",
   "execution_count": null,
   "id": "e25608c2",
   "metadata": {},
   "outputs": [],
   "source": [
    "# Creating a tuple\n",
    "numbers = (1, 2, 3, 4)\n",
    "\n",
    "# Find the index of the first occurrence of 3\n",
    "index = numbers.index(3)\n",
    "print(index) # 2\n",
    "\n",
    "# Count the number of occurrences of 2\n",
    "count = numbers.count(2)\n",
    "print(count) # 1\n"
   ]
  },
  {
   "cell_type": "markdown",
   "id": "eff29ee7",
   "metadata": {},
   "source": [
    "# Sets:\n",
    "\n",
    "add(): adds an element to the set\n",
    "\n",
    "update(): adds multiple elements to the set\n",
    "\n",
    "remove(): removes an element from the set\n",
    "\n",
    "pop(): removes and returns an arbitrary element from the set\n",
    "\n",
    "clear(): removes all elements from the set\n",
    "\n",
    "union(): returns a set containing all elements from the set and all elements from another set\n",
    "\n",
    "intersection(): returns a set containing only elements that are present in both sets\n",
    "\n",
    "difference(): returns a set containing elements that are present in the set but not in another set\n",
    "\n",
    "symmetric_difference(): returns a set containing elements that are present in only one of the sets\n",
    "\n",
    "issubset(): returns True if all elements of the set are present in another set (the set is a subset of another set)\n",
    "\n",
    "issuperset(): returns True if all elements of another set are present in the set (the set is a superset of another set)"
   ]
  },
  {
   "cell_type": "code",
   "execution_count": null,
   "id": "ffc46ddc",
   "metadata": {},
   "outputs": [],
   "source": [
    "# Creating a set\n",
    "numbers = {1, 2, 3, 4}\n",
    "\n",
    "# Add 5 to the set\n",
    "numbers.add(5)\n",
    "print(numbers) # {1, 2, 3, 4, 5}\n",
    "\n",
    "# Update the set with {6, 7, 8}\n",
    "numbers.update({6, 7, 8})\n",
    "print(numbers) # {1, 2, 3, 4, 5, 6, 7, 8}\n",
    "\n",
    "# Remove the element with value 3\n",
    "numbers.remove(3)\n",
    "print(numbers) # {1, 2, 4, 5, 6, 7, 8}\n",
    "\n",
    "# Pop and return an arbitrary element from the set\n",
    "popped_element = numbers.pop()\n",
    "print(popped_element) # 1\n",
    "print(numbers) # {2, 4, 5, 6, 7, 8}\n",
    "\n",
    "# Clear the set\n",
    "numbers.clear()\n",
    "print(numbers) # set()\n",
    "\n",
    "# Create two sets\n",
    "A = {1, 2, 3}\n",
    "B = {2, 3, 4}\n",
    "\n",
    "# Get the union of the sets\n",
    "union = A.union(B)\n",
    "print(union) # {1, 2, 3, 4}\n",
    "\n",
    "# Get the intersection of the sets\n",
    "intersection = A.intersection(B)\n",
    "print(intersection) # {2, 3}\n",
    "\n",
    "# Get the difference of the sets\n",
    "difference = A.difference(B)\n",
    "print(difference) # {1}\n",
    "\n",
    "# Get the symmetric difference of the sets\n",
    "symmetric_difference = A.symmetric_difference(B)\n",
    "print(symmetric_difference) # {1, 4}\n",
    "\n",
    "# Check if A is a subset of B\n",
    "is_subset = A.issubset(B)\n",
    "print(is_subset) # False\n",
    "\n",
    "# Check if A is a superset of B\n",
    "is_superset = A.issuperset(B)\n",
    "print(is_superset) # False"
   ]
  },
  {
   "cell_type": "markdown",
   "id": "2a6a721e",
   "metadata": {},
   "source": [
    "# Dictionaries:\n",
    "\n",
    "keys(): returns a view object that displays a list of all the keys in the dictionary\n",
    "    \n",
    "values(): returns a view object that displays a list of all the values in the dictionary\n",
    "    \n",
    "items(): returns a view object that displays a list of all the items (keys and values) in the dictionary\n",
    "\n",
    "get(): returns the value of the specified key, or None if the key is not found\n",
    "    \n",
    "pop(): removes and returns the value of the specified key, or a specified default value if the key is not found\n",
    "    \n",
    "popitem(): removes and returns an arbitrary (key, value) item from the dictionary\n",
    "    \n",
    "clear(): removes all items from the dictionary"
   ]
  },
  {
   "cell_type": "code",
   "execution_count": null,
   "id": "e0e5bef5",
   "metadata": {},
   "outputs": [],
   "source": [
    "# Creating a dictionary\n",
    "person = {'name': 'John', 'age': 25, 'gender': 'male'}\n",
    "\n",
    "# Get the keys of the dictionary\n",
    "keys = person.keys()\n",
    "print(keys) # dict_keys(['name', 'age', 'gender'])\n",
    "\n",
    "# Get the values of the dictionary\n",
    "values = person.values()\n",
    "print(values) # dict_values(['John', 25, 'male'])\n",
    "\n",
    "# Get the items of the dictionary\n",
    "items = person.items()\n",
    "print(items) # dict_items([('name', 'John'), ('age', 25), ('gender', 'male')])\n",
    "\n",
    "# Get the value of the key 'name'\n",
    "name = person.get('name')\n",
    "print(name) # John\n",
    "\n",
    "# Get the value of the key 'address' (which does not exist in the dictionary)\n",
    "address = person.get('address')\n",
    "print(address) # None\n",
    "\n",
    "# Pop and return the value of the key 'name'\n",
    "name = person.pop('name')\n",
    "print(name) # John\n",
    "print(person) # {'age': 25, 'gender': 'male'}\n",
    "\n",
    "# Pop and return an arbitrary item from the dictionary\n",
    "item = person.popitem()\n",
    "print(item) # ('age', 25)\n",
    "print(person) # {'gender': 'male'}\n",
    "\n",
    "# Clear the dictionary\n",
    "person.clear()\n",
    "print(person) # {}\n"
   ]
  },
  {
   "cell_type": "markdown",
   "id": "e3f6b67a",
   "metadata": {},
   "source": [
    "# strings\n",
    "\n",
    "In Python, a string is a sequence of characters enclosed within single quotes, double quotes, or triple quotes. Strings are immutable, which means that once they are created, their value cannot be changed. However, you can create new strings by manipulating existing ones."
   ]
  },
  {
   "cell_type": "code",
   "execution_count": null,
   "id": "8d0a1816",
   "metadata": {},
   "outputs": [],
   "source": [
    "'''The most commonly used methods for working with strings in Python are:\n",
    "\n",
    "len(): Returns the length of the string.\n",
    "lower(): Converts the string to lowercase.\n",
    "upper(): Converts the string to uppercase.\n",
    "strip(): Removes any whitespace characters from the beginning and end of the string.\n",
    "replace(): Replaces a specified substring with another substring.\n",
    "split(): Splits the string at the specified separator and returns a list of substrings.\n",
    "join(): Joins the elements of an iterable to the end of the string.\n",
    "find(): Searches the string for a specified value and returns the position of where it was found.\n",
    "count(): Returns the number of occurrences of a substring in the string.'''"
   ]
  },
  {
   "cell_type": "code",
   "execution_count": null,
   "id": "234ad38b",
   "metadata": {},
   "outputs": [],
   "source": [
    "# len(): Returns the length of the string.\n",
    "string = \"Hello, World!\"\n",
    "print(len(string)) # Output: 13\n"
   ]
  },
  {
   "cell_type": "code",
   "execution_count": null,
   "id": "b8731c8f",
   "metadata": {},
   "outputs": [],
   "source": [
    "# lower(): Converts the string to lowercase.\n",
    "string = \"Hello, World!\"\n",
    "print(string.lower()) # Output: hello, world!\n"
   ]
  },
  {
   "cell_type": "code",
   "execution_count": null,
   "id": "f9a503ca",
   "metadata": {},
   "outputs": [],
   "source": [
    "# strip(): Removes any whitespace characters from the beginning and end of the string.\n",
    "string = \"   Hello, World!   \"\n",
    "print(string.strip()) # Output: Hello, World!\n"
   ]
  },
  {
   "cell_type": "code",
   "execution_count": null,
   "id": "66785698",
   "metadata": {},
   "outputs": [],
   "source": [
    "# replace(): Replaces a specified substring with another substring.\n",
    "string = \"Hello, World!\"\n",
    "print(string.replace(\"World\", \"Python\")) # Output: Hello, Python!\n"
   ]
  },
  {
   "cell_type": "code",
   "execution_count": null,
   "id": "9d42e514",
   "metadata": {},
   "outputs": [],
   "source": [
    "# split(): Splits the string at the specified separator and returns a list of substrings.\n",
    "string = \"Hello, World!\"\n",
    "print(string.split(\",\")) # Output: ['Hello', ' World!']\n"
   ]
  },
  {
   "cell_type": "code",
   "execution_count": null,
   "id": "272efdee",
   "metadata": {},
   "outputs": [],
   "source": [
    "# join(): Joins the elements of an iterable to the end of the string.\n",
    "list_of_strings = ['Hello', 'World']\n",
    "separator = ', '\n",
    "print(separator.join(list_of_strings)) # Output: Hello, World\n"
   ]
  },
  {
   "cell_type": "code",
   "execution_count": null,
   "id": "7e5f164d",
   "metadata": {},
   "outputs": [],
   "source": [
    "# find(): Searches the string for a specified value and returns the position of where it was found.\n",
    "string = \"Hello, World!\"\n",
    "print(string.find(\"World\")) # Output: 7\n"
   ]
  },
  {
   "cell_type": "code",
   "execution_count": null,
   "id": "c02e59bb",
   "metadata": {},
   "outputs": [],
   "source": [
    "# count(): Returns the number of occurrences of a substring in the string.\n",
    "string = \"Hello, World!\"\n",
    "print(string.count(\"l\")) # Output: 3\n"
   ]
  },
  {
   "cell_type": "code",
   "execution_count": null,
   "id": "157daff3",
   "metadata": {},
   "outputs": [],
   "source": []
  },
  {
   "cell_type": "markdown",
   "id": "506815e1",
   "metadata": {},
   "source": [
    "# format strings\n",
    "In Python, there are two main ways to format strings: f-strings and the str.format() method."
   ]
  },
  {
   "cell_type": "code",
   "execution_count": null,
   "id": "8f5d97e1",
   "metadata": {},
   "outputs": [],
   "source": [
    "# f-strings\n",
    "name = \"John\"\n",
    "age = 30\n",
    "print(f\"My name is {name} and I am {age} years old.\")\n",
    "# Output: My name is John and I am 30 years old.\n"
   ]
  },
  {
   "cell_type": "code",
   "execution_count": null,
   "id": "66aa466a",
   "metadata": {},
   "outputs": [],
   "source": [
    "# str.format()\n",
    "name = \"John\"\n",
    "age = 30\n",
    "print(\"My name is {} and I am {} years old.\".format(name, age))\n",
    "# Output: My name is John and I am 30 years old.\n"
   ]
  },
  {
   "cell_type": "code",
   "execution_count": null,
   "id": "6149d357",
   "metadata": {},
   "outputs": [],
   "source": [
    "name = \"John\"\n",
    "age = 30\n",
    "print(\"My name is %s and I am %d years old.\" % (name, age))\n",
    "# Output: My name is John and I am 30 years old.\n"
   ]
  },
  {
   "cell_type": "code",
   "execution_count": null,
   "id": "4791b46e",
   "metadata": {},
   "outputs": [],
   "source": [
    "name = \"John\"\n",
    "age = 30\n",
    "print(\"My name is {0} and I am {1} years old.\".format(name, age))\n",
    "# Output: \"My name is John and I am 30 years old.\"\n",
    "\n",
    "print(\"My name is {name} and I am {age} years old.\".format(name=name, age=age))\n",
    "# Output: \"My name is John and I am 30 years old.\"\n"
   ]
  },
  {
   "cell_type": "code",
   "execution_count": null,
   "id": "f95ad900",
   "metadata": {},
   "outputs": [],
   "source": []
  },
  {
   "cell_type": "code",
   "execution_count": null,
   "id": "3683fa64",
   "metadata": {},
   "outputs": [],
   "source": [
    "# placeholders\n",
    "'''The placeholders are represented by % followed by a conversion type.\n",
    "\n",
    "%s is used as a placeholder for strings.\n",
    "%d is used as a placeholder for integers.\n",
    "\n",
    "There are several other conversion types available in Python's % operator string formatting. Here are some of them:\n",
    "\n",
    "%f: floating-point numbers\n",
    "%e: scientific notation with a lowercase e\n",
    "%E: scientific notation with an uppercase E\n",
    "%x: lowercase hexadecimal\n",
    "%X: uppercase hexadecimal\n",
    "%%: a literal % character\n",
    "%c : single character\n",
    "%o : octal\n",
    "%r : string representation of the object'''"
   ]
  },
  {
   "cell_type": "code",
   "execution_count": null,
   "id": "1c75c924",
   "metadata": {},
   "outputs": [],
   "source": []
  },
  {
   "cell_type": "code",
   "execution_count": null,
   "id": "091c8e47",
   "metadata": {},
   "outputs": [],
   "source": [
    "#Using the {:.nf} format specifier, where n is the number of decimal places to display:\n",
    "\n",
    "x = 3.14159\n",
    "print(\"The value of x is {:.2f}\".format(x))\n",
    "# Output: \"The value of x is 3.14\"\n"
   ]
  },
  {
   "cell_type": "code",
   "execution_count": null,
   "id": "4cec1258",
   "metadata": {},
   "outputs": [],
   "source": [
    "#Using f-string with precision\n",
    "\n",
    "x = 3.14159\n",
    "print(f\"The value of x is {x:.2f}\")\n",
    "# Output: \"The value of x is 3.14\""
   ]
  },
  {
   "cell_type": "code",
   "execution_count": null,
   "id": "e7be4e84",
   "metadata": {},
   "outputs": [],
   "source": [
    "#Using the %f conversion type with the % operator:\n",
    "\n",
    "x = 3.14159\n",
    "print(\"The value of x is %g\" % x)\n",
    "# Output: \"The value of x is 3.141590\"\n"
   ]
  },
  {
   "cell_type": "code",
   "execution_count": null,
   "id": "771f49cb",
   "metadata": {},
   "outputs": [],
   "source": []
  },
  {
   "cell_type": "code",
   "execution_count": null,
   "id": "eb4b4147",
   "metadata": {},
   "outputs": [],
   "source": []
  },
  {
   "cell_type": "markdown",
   "id": "937c0fd4",
   "metadata": {},
   "source": [
    "# Control flow statements"
   ]
  },
  {
   "cell_type": "markdown",
   "id": "70cdacc6",
   "metadata": {},
   "source": [
    "### if-elif-else, for, while, break, continue, and pass."
   ]
  },
  {
   "cell_type": "code",
   "execution_count": null,
   "id": "f1e1573e",
   "metadata": {},
   "outputs": [],
   "source": [
    "# if-elif-else:\n",
    "# if-elif-else example\n",
    "num = int(input())\n",
    "\n",
    "if num < 0:\n",
    "    print(\"Negative number\")\n",
    "elif num == 0:\n",
    "    print(\"Zero\")\n",
    "else:\n",
    "    print(\"Positive number\")\n"
   ]
  },
  {
   "cell_type": "code",
   "execution_count": null,
   "id": "51d8f329",
   "metadata": {},
   "outputs": [],
   "source": [
    "# for loop\n",
    "\n",
    "fruits = [\"apple\", \"banana\", \"cherry\"]\n",
    "\n",
    "for fruit in fruits:\n",
    "    print(fruit)\n"
   ]
  },
  {
   "cell_type": "code",
   "execution_count": null,
   "id": "57ee78d2",
   "metadata": {},
   "outputs": [],
   "source": [
    "# nested for loop\n",
    "\n",
    "for i in range(3):\n",
    "    for j in range(4):\n",
    "        print(i, j)\n"
   ]
  },
  {
   "cell_type": "code",
   "execution_count": null,
   "id": "5dee77c0",
   "metadata": {},
   "outputs": [],
   "source": [
    "# nested for loop example for creating a multiplication table\n",
    "for i in range(1, 4):\n",
    "    for j in range(1, 3):\n",
    "        print(i, \"x\", j, \"=\", i * j)\n"
   ]
  },
  {
   "cell_type": "code",
   "execution_count": null,
   "id": "b60d4634",
   "metadata": {},
   "outputs": [],
   "source": [
    "# while example\n",
    "i = 0\n",
    "while i <= 5:\n",
    "    print('i = ',i)\n",
    "    i += 1\n",
    "    if i==3:\n",
    "        continue\n",
    "    if i == 3:\n",
    "        break\n",
    "    if i==10:\n",
    "        pass"
   ]
  },
  {
   "cell_type": "code",
   "execution_count": null,
   "id": "469878a0",
   "metadata": {},
   "outputs": [],
   "source": [
    "# while loop example for creating a shape\n",
    "rows = 5\n",
    "current_row = 1\n",
    "\n",
    "while current_row <= rows:\n",
    "    spaces = rows - current_row\n",
    "    stars = (2 * current_row) - 1\n",
    "\n",
    "    print(\" \" * spaces, end=\"\")\n",
    "    print(\"*\" * stars)\n",
    "\n",
    "    current_row += 1\n"
   ]
  },
  {
   "cell_type": "code",
   "execution_count": null,
   "id": "d3767c4b",
   "metadata": {},
   "outputs": [],
   "source": [
    "# creating a multiplication table using a while loop\n",
    "num = 5\n",
    "mult = 1\n",
    "\n",
    "while mult <= 10:\n",
    "    print(num, \"x\", mult, \"=\", num * mult)\n",
    "    mult += 1\n"
   ]
  },
  {
   "cell_type": "markdown",
   "id": "7012fdaa",
   "metadata": {},
   "source": [
    "# common shapes"
   ]
  },
  {
   "cell_type": "code",
   "execution_count": null,
   "id": "b0df5c52",
   "metadata": {},
   "outputs": [],
   "source": [
    "# triangle\n",
    "\n",
    "i = 0\n",
    "n = 6\n",
    "while i<n:\n",
    "    print('*'*i)\n",
    "    i+=1"
   ]
  },
  {
   "cell_type": "code",
   "execution_count": null,
   "id": "fb01993d",
   "metadata": {},
   "outputs": [],
   "source": [
    "# square\n",
    "\n",
    "i = 0\n",
    "n = 6\n",
    "while i<n:\n",
    "    print('*'*n)\n",
    "    i+=1"
   ]
  },
  {
   "cell_type": "code",
   "execution_count": null,
   "id": "7b758c1b",
   "metadata": {},
   "outputs": [],
   "source": [
    "# rectangle\n",
    "\n",
    "i = 0\n",
    "n = 6\n",
    "while i<n:\n",
    "    print('*'*n*n)\n",
    "    i+=1"
   ]
  },
  {
   "cell_type": "code",
   "execution_count": null,
   "id": "bee13402",
   "metadata": {},
   "outputs": [],
   "source": [
    "# equa. tr.\n",
    "\n",
    "i = 1\n",
    "n = 5\n",
    "while i<=n:\n",
    "    j=1\n",
    "    while j<=n-i:\n",
    "        print(' ',end='')\n",
    "        j+=1\n",
    "    \n",
    "    j=1\n",
    "    while j<=2*i-1:\n",
    "        print('*',end='')\n",
    "        j+=1\n",
    "    \n",
    "    print()\n",
    "    i+=1"
   ]
  },
  {
   "cell_type": "code",
   "execution_count": null,
   "id": "126c1a16",
   "metadata": {
    "scrolled": true
   },
   "outputs": [],
   "source": [
    "# while loop example for creating a shape\n",
    "rows = 5\n",
    "current_row = 1\n",
    "\n",
    "while current_row <= rows:\n",
    "    spaces = rows - current_row\n",
    "    stars = (2 * current_row) - 1\n",
    "\n",
    "    print(\" \" * spaces, end=\"\")\n",
    "    print(\"*\" * stars)\n",
    "\n",
    "    current_row += 1\n"
   ]
  },
  {
   "cell_type": "code",
   "execution_count": null,
   "id": "d01e6cbd",
   "metadata": {
    "scrolled": true
   },
   "outputs": [],
   "source": [
    "# diamond\n",
    "\n",
    "rows = 8\n",
    "now = 1\n",
    "\n",
    "while now <= rows:\n",
    "    space = rows - now\n",
    "    print(' '*space,end=' ')\n",
    "    print('*'*((2*now)-1)) \n",
    "    now+=1\n",
    "    \n",
    "down = rows-1\n",
    "j=1\n",
    "while down >= 1:\n",
    "    print(' '*j,end=' ')\n",
    "    print('*'*((2*down)-1))\n",
    "    down-=1\n",
    "    j+=1\n",
    "          "
   ]
  },
  {
   "cell_type": "code",
   "execution_count": null,
   "id": "d2ebf6db",
   "metadata": {},
   "outputs": [],
   "source": [
    "# hollow square\n",
    "\n",
    "rows = 10\n",
    "current = 1\n",
    "while current<=rows:\n",
    "    if current==1:\n",
    "        print('*'*(rows-current))\n",
    "    current+=1\n",
    "    j+=1\n",
    "    \n",
    "two = rows-2\n",
    "while two>=1:\n",
    "    print('*'*1,end='')\n",
    "    print(' '*(rows-3),end='')\n",
    "    print('*'*1)\n",
    "    two-=1\n",
    "\n",
    "print('*'*(rows-1))\n",
    "    "
   ]
  },
  {
   "cell_type": "code",
   "execution_count": null,
   "id": "ca5d3b0c",
   "metadata": {},
   "outputs": [],
   "source": []
  },
  {
   "cell_type": "markdown",
   "id": "49ebd307",
   "metadata": {},
   "source": [
    "# Modules"
   ]
  },
  {
   "cell_type": "markdown",
   "id": "4609164b",
   "metadata": {},
   "source": [
    "### Modules are a way to organize your Python code into reusable components.When you create a module, you can define functions, classes, variables, and other objects within it. By putting these objects into a module, you can use them in multiple parts of your code without having to copy and paste the same code over and over again."
   ]
  },
  {
   "cell_type": "markdown",
   "id": "09da04ce",
   "metadata": {},
   "source": [
    "#### To use a module in your code, you need to import it."
   ]
  },
  {
   "cell_type": "markdown",
   "id": "e8be1f6d",
   "metadata": {},
   "source": [
    "import math\n",
    "# Once the module is imported, you can access the objects within it by prefixing the object names with the module name, like this:\n",
    "math.x()"
   ]
  },
  {
   "cell_type": "code",
   "execution_count": null,
   "id": "12d8af14",
   "metadata": {},
   "outputs": [],
   "source": [
    "import math\n",
    "math.sin(20)"
   ]
  },
  {
   "cell_type": "markdown",
   "id": "10ff7e40",
   "metadata": {},
   "source": [
    "# Packages"
   ]
  },
  {
   "cell_type": "markdown",
   "id": "6aa42cfb",
   "metadata": {},
   "source": [
    "#### Packages are a way to organize multiple modules into a single, reusable component.A package is simply a directory that contains one or more modules. When you create a package, you can put related modules into the package, making it easier to manage and use the modules together."
   ]
  },
  {
   "cell_type": "markdown",
   "id": "8e66aea0",
   "metadata": {},
   "source": [
    "To use a package, you need to import one or more modules from the package. For example, if you have a package named mypackage that contains two modules named module1.py and module2.py, you would import the modules in your code like this:"
   ]
  },
  {
   "cell_type": "code",
   "execution_count": null,
   "id": "a3c26768",
   "metadata": {},
   "outputs": [],
   "source": [
    "from mypackage import module1, module2\n",
    "module1.myfunction()\n",
    "module2.myfunction()"
   ]
  },
  {
   "cell_type": "code",
   "execution_count": null,
   "id": "7e0c9476",
   "metadata": {},
   "outputs": [],
   "source": [
    "from math import sin\n",
    "sin(20)"
   ]
  },
  {
   "cell_type": "code",
   "execution_count": null,
   "id": "07a03d94",
   "metadata": {},
   "outputs": [],
   "source": []
  },
  {
   "cell_type": "markdown",
   "id": "fc899cae",
   "metadata": {},
   "source": [
    "# os module"
   ]
  },
  {
   "cell_type": "code",
   "execution_count": null,
   "id": "a13808a5",
   "metadata": {},
   "outputs": [],
   "source": [
    "'''\n",
    "os.mkdir: Used to create a new directory.\n",
    "os.chdir: Used to change the current working directory.\n",
    "os.rmdir: Used to delete an empty directory.\n",
    "os.listdir: Used to get a list of all files and directories in a directory.\n",
    "os.getcwd: Returns the current working directory.\n",
    "os.rename: Used to rename a file or directory.\n",
    "os.remove: Used to delete a file.\n",
    "'''"
   ]
  },
  {
   "cell_type": "code",
   "execution_count": null,
   "id": "23bb5aef",
   "metadata": {},
   "outputs": [],
   "source": [
    "import os"
   ]
  },
  {
   "cell_type": "code",
   "execution_count": null,
   "id": "b9c971b0",
   "metadata": {},
   "outputs": [],
   "source": [
    "from os import *"
   ]
  },
  {
   "cell_type": "code",
   "execution_count": null,
   "id": "4e57948b",
   "metadata": {},
   "outputs": [],
   "source": [
    "listdir()"
   ]
  },
  {
   "cell_type": "code",
   "execution_count": null,
   "id": "a7cd1cee",
   "metadata": {},
   "outputs": [],
   "source": [
    "mkdir('test')"
   ]
  },
  {
   "cell_type": "code",
   "execution_count": null,
   "id": "5cf36ac9",
   "metadata": {},
   "outputs": [],
   "source": [
    "rmdir('test')"
   ]
  },
  {
   "cell_type": "code",
   "execution_count": null,
   "id": "85cbff24",
   "metadata": {},
   "outputs": [],
   "source": [
    "getcwd()"
   ]
  },
  {
   "cell_type": "code",
   "execution_count": null,
   "id": "b99436b2",
   "metadata": {},
   "outputs": [],
   "source": [
    "rename('012 oopsss.ipynb','12 oopsss.ipynb')"
   ]
  },
  {
   "cell_type": "code",
   "execution_count": null,
   "id": "cc4111af",
   "metadata": {},
   "outputs": [],
   "source": []
  },
  {
   "cell_type": "markdown",
   "id": "b85e4baf",
   "metadata": {},
   "source": [
    "# File Input and Output"
   ]
  },
  {
   "cell_type": "markdown",
   "id": "21b3e640",
   "metadata": {},
   "source": [
    "In Python, we can work with files using the built-in open() function. This function allows us to open a file, read its contents, write to it, and close it."
   ]
  },
  {
   "cell_type": "code",
   "execution_count": 6,
   "id": "ec9616e8",
   "metadata": {},
   "outputs": [
    {
     "name": "stdout",
     "output_type": "stream",
     "text": [
      "yes exists\n"
     ]
    }
   ],
   "source": [
    "import os\n",
    "\n",
    "filename = \"hello.txt\"\n",
    "\n",
    "if not os.path.exists(filename):\n",
    "    print('no')\n",
    "else:\n",
    "    print('yes exists')"
   ]
  },
  {
   "cell_type": "markdown",
   "id": "0b3fc24d",
   "metadata": {},
   "source": [
    "#### 'w' (Write Only): This mode opens a file for writing only and overwrites the file if it already exists. If the file does not exist, a new file is created.'''"
   ]
  },
  {
   "cell_type": "code",
   "execution_count": 38,
   "id": "41a9dad7",
   "metadata": {},
   "outputs": [],
   "source": [
    "a = '''\n",
    "File Input and Output in Python\n",
    "\n",
    "In Python, we can work with files using the built-in open() function. This function allows us to open a file, read its contents, write to it, and close it.\n",
    "\n",
    "Here's an example of reading a text file:\n",
    "'''\n",
    "with open(\"example.txt\", \"w\") as file:\n",
    "    file.write(a)\n"
   ]
  },
  {
   "cell_type": "markdown",
   "id": "161dd911",
   "metadata": {},
   "source": [
    "#### ''' 'r' (Read Only): This is the default mode in which a file is opened. It opens a file for reading only and the file pointer is placed at the beginning of the file. If the file does not exist, an error is raised. '''"
   ]
  },
  {
   "cell_type": "code",
   "execution_count": 39,
   "id": "5c73e1b2",
   "metadata": {},
   "outputs": [
    {
     "name": "stdout",
     "output_type": "stream",
     "text": [
      "\n",
      "File Input and Output in Python\n",
      "\n",
      "In Python, we can work with files using the built-in open() function. This function allows us to open a file, read its contents, write to it, and close it.\n",
      "\n",
      "Here's an example of reading a text file:\n",
      "\n"
     ]
    }
   ],
   "source": [
    "with open('example.txt','r') as file:\n",
    "    x = file.read()\n",
    "    print(x)"
   ]
  },
  {
   "cell_type": "markdown",
   "id": "4553e2bc",
   "metadata": {},
   "source": [
    "#### 'a' (Append Only): This mode opens a file for writing only and appends the data to the file if it already exists. If the file does not exist, a new file is created."
   ]
  },
  {
   "cell_type": "code",
   "execution_count": 20,
   "id": "b1f7989c",
   "metadata": {},
   "outputs": [],
   "source": [
    "with open('example.txt','a') as file:\n",
    "    file.write('OK CHECKING')"
   ]
  },
  {
   "cell_type": "markdown",
   "id": "d827e048",
   "metadata": {},
   "source": [
    "#### ''' 'x' (Exclusive creation): This mode opens a file for writing only and creates a new file. If the file already exists, an error is raised. '''"
   ]
  },
  {
   "cell_type": "code",
   "execution_count": 22,
   "id": "11e9cc8e",
   "metadata": {},
   "outputs": [
    {
     "ename": "FileExistsError",
     "evalue": "[Errno 17] File exists: 'example.txt'",
     "output_type": "error",
     "traceback": [
      "\u001b[1;31m---------------------------------------------------------------------------\u001b[0m",
      "\u001b[1;31mFileExistsError\u001b[0m                           Traceback (most recent call last)",
      "Input \u001b[1;32mIn [22]\u001b[0m, in \u001b[0;36m<cell line: 1>\u001b[1;34m()\u001b[0m\n\u001b[1;32m----> 1\u001b[0m \u001b[38;5;28;01mwith\u001b[39;00m \u001b[38;5;28;43mopen\u001b[39;49m\u001b[43m(\u001b[49m\u001b[38;5;124;43m'\u001b[39;49m\u001b[38;5;124;43mexample.txt\u001b[39;49m\u001b[38;5;124;43m'\u001b[39;49m\u001b[43m,\u001b[49m\u001b[38;5;124;43m'\u001b[39;49m\u001b[38;5;124;43mx\u001b[39;49m\u001b[38;5;124;43m'\u001b[39;49m\u001b[43m)\u001b[49m \u001b[38;5;28;01mas\u001b[39;00m file:\n\u001b[0;32m      2\u001b[0m     file\u001b[38;5;241m.\u001b[39mwrite(\u001b[38;5;124m'\u001b[39m\u001b[38;5;124mok\u001b[39m\u001b[38;5;124m'\u001b[39m)\n",
      "\u001b[1;31mFileExistsError\u001b[0m: [Errno 17] File exists: 'example.txt'"
     ]
    }
   ],
   "source": [
    "with open('example.txt','x') as file:\n",
    "    file.write('ok')"
   ]
  },
  {
   "cell_type": "markdown",
   "id": "7444f23d",
   "metadata": {},
   "source": [
    "+: Update mode. Opens a file for both reading and writing."
   ]
  },
  {
   "cell_type": "code",
   "execution_count": 55,
   "id": "8d7366a3",
   "metadata": {},
   "outputs": [
    {
     "name": "stdout",
     "output_type": "stream",
     "text": [
      "-----\n"
     ]
    }
   ],
   "source": [
    "with open('exampl.txt','r+') as file:\n",
    "    x = file.read()\n",
    "    file.write('-----')\n",
    "    \n",
    "    print(x)"
   ]
  },
  {
   "cell_type": "code",
   "execution_count": 56,
   "id": "c039cfaa",
   "metadata": {},
   "outputs": [
    {
     "name": "stdout",
     "output_type": "stream",
     "text": [
      "\n"
     ]
    }
   ],
   "source": [
    "with open('exampl.txt','w+') as file:\n",
    "    file.write('-----')\n",
    "    x = file.read()\n",
    "    print(x)"
   ]
  },
  {
   "cell_type": "code",
   "execution_count": 63,
   "id": "e4942c1f",
   "metadata": {},
   "outputs": [
    {
     "ename": "TypeError",
     "evalue": "write() argument must be str, not list",
     "output_type": "error",
     "traceback": [
      "\u001b[1;31m---------------------------------------------------------------------------\u001b[0m",
      "\u001b[1;31mTypeError\u001b[0m                                 Traceback (most recent call last)",
      "Input \u001b[1;32mIn [63]\u001b[0m, in \u001b[0;36m<cell line: 1>\u001b[1;34m()\u001b[0m\n\u001b[0;32m      1\u001b[0m \u001b[38;5;28;01mwith\u001b[39;00m \u001b[38;5;28mopen\u001b[39m(\u001b[38;5;124m\"\u001b[39m\u001b[38;5;124mexample.txt\u001b[39m\u001b[38;5;124m\"\u001b[39m, \u001b[38;5;124m\"\u001b[39m\u001b[38;5;124mw\u001b[39m\u001b[38;5;124m\"\u001b[39m) \u001b[38;5;28;01mas\u001b[39;00m file:\n\u001b[0;32m      2\u001b[0m     lines \u001b[38;5;241m=\u001b[39m [\u001b[38;5;124m\"\u001b[39m\u001b[38;5;124mline 1\u001b[39m\u001b[38;5;124m\"\u001b[39m, \u001b[38;5;124m\"\u001b[39m\u001b[38;5;124mline 2\u001b[39m\u001b[38;5;124m\"\u001b[39m, \u001b[38;5;124m\"\u001b[39m\u001b[38;5;124mline 3\u001b[39m\u001b[38;5;124m\"\u001b[39m]\n\u001b[1;32m----> 3\u001b[0m     \u001b[43mfile\u001b[49m\u001b[38;5;241;43m.\u001b[39;49m\u001b[43mwrite\u001b[49m\u001b[43m(\u001b[49m\u001b[43mlines\u001b[49m\u001b[43m)\u001b[49m\n",
      "\u001b[1;31mTypeError\u001b[0m: write() argument must be str, not list"
     ]
    }
   ],
   "source": [
    "\n",
    "\n",
    "with open(\"example.txt\", \"w\") as file:\n",
    "    lines = [\"line 1\", \"line 2\", \"line 3\"]\n",
    "    file.write(lines)"
   ]
  },
  {
   "cell_type": "code",
   "execution_count": 64,
   "id": "391a1e0e",
   "metadata": {},
   "outputs": [],
   "source": [
    "\n",
    "\n",
    "with open(\"example.txt\", \"w\") as file:\n",
    "    lines = [\"line 1\", \"line 2\", \"line 3\"]\n",
    "    file.writelines(lines)"
   ]
  },
  {
   "cell_type": "code",
   "execution_count": 65,
   "id": "cb4f1254",
   "metadata": {},
   "outputs": [
    {
     "name": "stdout",
     "output_type": "stream",
     "text": [
      "line 1line 2line 3\n"
     ]
    }
   ],
   "source": [
    "\n",
    "with open(\"example.txt\", \"r\") as file:\n",
    "    line = file.readline()\n",
    "    print(line)"
   ]
  },
  {
   "cell_type": "code",
   "execution_count": 60,
   "id": "f2d88cd8",
   "metadata": {},
   "outputs": [
    {
     "name": "stdout",
     "output_type": "stream",
     "text": [
      "['line 1line 2line 3']\n"
     ]
    }
   ],
   "source": [
    "\n",
    "with open(\"example.txt\", \"r\") as file:\n",
    "    lines = file.readlines()\n",
    "    print(lines)"
   ]
  },
  {
   "cell_type": "code",
   "execution_count": 66,
   "id": "c75a099d",
   "metadata": {},
   "outputs": [
    {
     "name": "stdout",
     "output_type": "stream",
     "text": [
      "line 1line 2line 3\n"
     ]
    }
   ],
   "source": [
    "\n",
    "with open(\"example.txt\", \"r\") as file:\n",
    "    content = file.read()\n",
    "    print(content)\n"
   ]
  },
  {
   "cell_type": "code",
   "execution_count": null,
   "id": "51b22210",
   "metadata": {},
   "outputs": [],
   "source": []
  }
 ],
 "metadata": {
  "kernelspec": {
   "display_name": "Python 3 (ipykernel)",
   "language": "python",
   "name": "python3"
  },
  "language_info": {
   "codemirror_mode": {
    "name": "ipython",
    "version": 3
   },
   "file_extension": ".py",
   "mimetype": "text/x-python",
   "name": "python",
   "nbconvert_exporter": "python",
   "pygments_lexer": "ipython3",
   "version": "3.9.12"
  }
 },
 "nbformat": 4,
 "nbformat_minor": 5
}
